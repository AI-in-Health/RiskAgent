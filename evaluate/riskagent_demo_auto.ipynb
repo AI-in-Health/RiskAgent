{
 "cells": [
  {
   "cell_type": "code",
   "execution_count": null,
   "metadata": {},
   "outputs": [
    {
     "name": "stderr",
     "output_type": "stream",
     "text": [
      "2025-03-15 02:43:53,368 - INFO - Running tool selection...\n",
      "2025-03-15 02:43:57,731 - INFO - Extracting parameters...\n",
      "2025-03-15 02:44:18,478 - INFO - Generating final assessment...\n",
      "2025-03-15 02:44:43,769 - INFO - Case analysis completed\n"
     ]
    },
    {
     "name": "stdout",
     "output_type": "stream",
     "text": [
      "\n",
      "=== Final Assessment ===\n",
      "**High-Risk Conditions Identified:**\n",
      "- **Stroke:** The patient has a high risk of stroke, with an annual risk of approximately 6.7%, based on a CHA₂DS₂-VASc score of 5.\n",
      "\n",
      "**Key Evidence Supporting High-Risk Predictions:**\n",
      "- History of stroke contributes 2 points to the CHA₂DS₂-VASc score.\n",
      "- Hypertension and diabetes each contribute 1 point.\n",
      "- Female sex contributes 1 point.\n",
      "\n",
      "**Focused Recommendations for Immediate Attention:**\n",
      "- Initiate anticoagulation therapy (e.g., warfarin or DOACs) to mitigate stroke risk, unless contraindicated.\n",
      "- Implement regular monitoring of blood pressure and blood glucose levels.\n",
      "- Educate the patient on stroke symptom recognition and adherence to therapy.\n",
      "- Encourage lifestyle changes: diet, exercise, smoking cessation, and moderating alcohol intake to manage cardiovascular risks effectively.\n"
     ]
    }
   ],
   "source": [
    "from riskagent_pipeline_auto import RiskAgentPipeline\n",

    "# API mode: better accuracy, slower speed \n",
    "# Local mode: better speed, lower accuracy \n",
    "# Auto mode: a balance between speed and accuracy \n",
    "# Option 1: Use auto mode to try the MDCal API calculation first, falling back to GPT-4o calculation using the locally pre-stored formulation if it fails. \n",
    "pipeline = RiskAgentPipeline(\n",
    "    model_type=\"openai\",\n",
    "    api_key=\"YOUR_OPENAI_API_KEY\",\n",
    "    deployment=\"gpt-4o\",\n",
    "    tool_mode=\"auto\"\n",
    ")\n",
    "\n",
    "\n",

    "# Option 2: Use local mode to try GPT-4o calculation using the locally pre-stored formulation. \n",
    "pipeline = RiskAgentPipeline(\n",
    "    model_type=\"openai\",\n",
    "    api_key=\"YOUR_OPENAI_API_KEY\",\n",
    "    deployment=\"gpt-4o\",\n",
    "    tool_mode=\"local\"\n",
    ")\n",
    "\n",
    "\n",

    "# Option 3: Use API mode to try the MDCal API calculation. \n",
    "pipeline = RiskAgentPipeline(\n",
    "    model_type=\"openai\",\n",
    "    api_key=\"YOUR_OPENAI_API_KEY\",\n",
    "    deployment=\"gpt-4o\",\n",
    "    tool_mode=\"API\"\n",
    ")\n",
    "\n",
    "\n",

    "# Test case\n",
    "test_case = \"\"\"\n",
    "A 54-year-old female patient with a history of hypertension and diabetes presents to the clinic reporting palpitations and occasional dizziness. Her medical records show a previous stroke, but no history of congestive heart failure or vascular diseases such as myocardial infarction or peripheral arterial disease.\n",
    "\"\"\"\n",
    "\n",
    "# Choose pipeline to run\n",
    "pipeline = pipeline  \n",
    "\n",
    "results = pipeline.process_case(test_case)\n",
    "\n",
    "print(\"\\n=== Final Assessment ===\")\n",
    "print(results['final_output']) "
   ]
  },
  {
   "cell_type": "code",
   "execution_count": null,
   "metadata": {},
   "outputs": [],
   "source": []
  }
 ],
 "metadata": {
  "kernelspec": {
   "display_name": "base",
   "language": "python",
   "name": "python3"
  },
  "language_info": {
   "codemirror_mode": {
    "name": "ipython",
    "version": 3
   },
   "file_extension": ".py",
   "mimetype": "text/x-python",
   "name": "python",
   "nbconvert_exporter": "python",
   "pygments_lexer": "ipython3",
   "version": "3.9.12"
  }
 },
 "nbformat": 4,
 "nbformat_minor": 2
}
